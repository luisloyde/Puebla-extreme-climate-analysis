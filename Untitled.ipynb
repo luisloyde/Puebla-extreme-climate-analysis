{
 "cells": [
  {
   "cell_type": "code",
   "execution_count": 1,
   "id": "2c05c0e0-90bc-4ec8-8d21-6310d5460393",
   "metadata": {},
   "outputs": [
    {
     "ename": "NameError",
     "evalue": "name '__file__' is not defined",
     "output_type": "error",
     "traceback": [
      "\u001b[1;31m---------------------------------------------------------------------------\u001b[0m",
      "\u001b[1;31mNameError\u001b[0m                                 Traceback (most recent call last)",
      "Cell \u001b[1;32mIn[1], line 15\u001b[0m\n\u001b[0;32m     12\u001b[0m \u001b[38;5;28;01mfrom\u001b[39;00m \u001b[38;5;21;01mscipy\u001b[39;00m\u001b[38;5;21;01m.\u001b[39;00m\u001b[38;5;21;01minterpolate\u001b[39;00m \u001b[38;5;28;01mimport\u001b[39;00m griddata\n\u001b[0;32m     14\u001b[0m \u001b[38;5;66;03m# Obtiene el directorio del script (funciona en cualquier entorno)\u001b[39;00m\n\u001b[1;32m---> 15\u001b[0m files_directory \u001b[38;5;241m=\u001b[39m Path(\u001b[38;5;18;43m__file__\u001b[39;49m)\u001b[38;5;241m.\u001b[39mparent\n\u001b[0;32m     17\u001b[0m os\u001b[38;5;241m.\u001b[39mchdir(files_directory)\n\u001b[0;32m     19\u001b[0m data \u001b[38;5;241m=\u001b[39m pd\u001b[38;5;241m.\u001b[39mread_excel(\u001b[38;5;124m'\u001b[39m\u001b[38;5;124mdata.xlsx\u001b[39m\u001b[38;5;124m'\u001b[39m)\n",
      "\u001b[1;31mNameError\u001b[0m: name '__file__' is not defined"
     ]
    }
   ],
   "source": [
    "# -*- coding: utf-8 -*-\n",
    "\"\"\"\n",
    "Editor de Spyder\n",
    "\n",
    "Este es un archivo temporal.\n",
    "\"\"\"\n",
    "\n",
    "from pathlib import Path\n",
    "import os\n",
    "import pandas as pd\n",
    "import numpy as np\n",
    "from scipy.interpolate import griddata\n",
    "\n",
    "# Obtiene el directorio del script (funciona en cualquier entorno)\n",
    "files_directory = Path(__file__).parent\n",
    "\n",
    "os.chdir(files_directory)\n",
    "\n",
    "data = pd.read_excel('data.xlsx')\n",
    "print(data.head())\n",
    "\n",
    "x = data['X'].values\n",
    "y = data['Y'].values\n",
    "z = data['PROF'].values\n",
    "\n",
    "pollutant_concentration = data['HFP'].values\n",
    "\n",
    "grid_x, grid_y, grid_z = np.mgrid[\n",
    "    min(x):max(x):100j,\n",
    "    min(y):max(y):100j,\n",
    "    min(z):max(z):100j\n",
    "    ]\n",
    "\n",
    "grid_pollutant = griddata((x, y, z), pollutant_concentration, (grid_x, grid_y, grid_z), method='linear')\n",
    "\n",
    "import plotly.graph_objs as go\n",
    "\n",
    "# Crear una figura 3D\n",
    "fig = go.Figure(data=go.Volume(\n",
    "    x=grid_x.flatten(),\n",
    "    y=grid_y.flatten(),\n",
    "    z=grid_z.flatten(),\n",
    "    value=grid_pollutant.flatten(),\n",
    "    isomin=0,  # Establecer un valor mínimo para la visualización\n",
    "    isomax=grid_pollutant.max(),  # Establecer el valor máximo para la visualización\n",
    "    opacity=0.1,  # Controlar la opacidad\n",
    "    surface_count=20,  # Número de superficies a mostrar\n",
    "))\n",
    "\n",
    "# Configurar el diseño\n",
    "fig.update_layout(\n",
    "    scene=dict(\n",
    "        xaxis_title='Coordenada UTM E',\n",
    "        yaxis_title='Coordenada UTM N',\n",
    "        zaxis_title='Profundidad',\n",
    "    ),\n",
    "    title='Visualización Volumétrica de Concentración de HC'\n",
    ")\n",
    "\n",
    "fig.show()\n"
   ]
  },
  {
   "cell_type": "code",
   "execution_count": null,
   "id": "e6d8095b-3cae-4f1e-8b2c-8a04f4318b87",
   "metadata": {},
   "outputs": [],
   "source": []
  }
 ],
 "metadata": {
  "kernelspec": {
   "display_name": "Python 3 (ipykernel)",
   "language": "python",
   "name": "python3"
  },
  "language_info": {
   "codemirror_mode": {
    "name": "ipython",
    "version": 3
   },
   "file_extension": ".py",
   "mimetype": "text/x-python",
   "name": "python",
   "nbconvert_exporter": "python",
   "pygments_lexer": "ipython3",
   "version": "3.12.5"
  }
 },
 "nbformat": 4,
 "nbformat_minor": 5
}
